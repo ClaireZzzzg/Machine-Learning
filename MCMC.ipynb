{
 "cells": [
  {
   "cell_type": "code",
   "execution_count": 1,
   "id": "8abb9ead",
   "metadata": {},
   "outputs": [],
   "source": [
    "import numpy as np\n",
    "from matplotlib import pyplot as plt\n",
    "import seaborn as sns\n",
    "sns.set()"
   ]
  },
  {
   "cell_type": "code",
   "execution_count": 2,
   "id": "8731837b",
   "metadata": {},
   "outputs": [],
   "source": [
    "#transition matrix\n",
    "T = np.array([[0.9, 0.1],[0.5, 0.5]])\n",
    "\n",
    "#current state\n",
    "p = np.random.uniform(low=0, high=1, size=2) #size: output shape\n",
    "p = p/np.sum(p) #proportion\n",
    "\n",
    "#result\n",
    "q=np.zeros((100,2))\n",
    "for i in np.arange(0,100):\n",
    "    q[i, :] = np.dot(p,np.linalg.matrix_power(T, i)) #i is exponent here."
   ]
  },
  {
   "cell_type": "code",
   "execution_count": 4,
   "id": "5457d068",
   "metadata": {},
   "outputs": [
    {
     "data": {
      "text/plain": [
       "<matplotlib.legend.Legend at 0x7f8f67a56f10>"
      ]
     },
     "execution_count": 4,
     "metadata": {},
     "output_type": "execute_result"
    },
    {
     "data": {
      "image/png": "[encoded data removed]",
      "text/plain": [
       "<Figure size 432x288 with 1 Axes>"
      ]
     },
     "metadata": {},
     "output_type": "display_data"
    }
   ],
   "source": [
    "plt.plot(q)\n",
    "plt.xlabel('i')\n",
    "plt.legend(('S', 'R'))"
   ]
  }
 ],
 "metadata": {
  "kernelspec": {
   "display_name": "Python 3 (ipykernel)",
   "language": "python",
   "name": "python3"
  },
  "language_info": {
   "codemirror_mode": {
    "name": "ipython",
    "version": 3
   },
   "file_extension": ".py",
   "mimetype": "text/x-python",
   "name": "python",
   "nbconvert_exporter": "python",
   "pygments_lexer": "ipython3",
   "version": "3.9.7"
  },
  "toc": {
   "base_numbering": 1,
   "nav_menu": {},
   "number_sections": true,
   "sideBar": true,
   "skip_h1_title": false,
   "title_cell": "Table of Contents",
   "title_sidebar": "Contents",
   "toc_cell": false,
   "toc_position": {},
   "toc_section_display": true,
   "toc_window_display": false
  }
 },
 "nbformat": 4,
 "nbformat_minor": 5
}
